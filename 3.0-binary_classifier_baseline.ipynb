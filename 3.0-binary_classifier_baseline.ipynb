{
 "cells": [
  {
   "cell_type": "markdown",
   "metadata": {},
   "source": [
    "### Imports ###"
   ]
  },
  {
   "cell_type": "code",
   "execution_count": 13,
   "metadata": {},
   "outputs": [],
   "source": [
    "import pandas as pd\n",
    "import json\n",
    "from nltk.stem import PorterStemmer\n",
    "from sklearn.svm import LinearSVC\n",
    "from sklearn.model_selection import train_test_split\n",
    "from sklearn.metrics import confusion_matrix\n",
    "\n",
    "import nltk\n",
    "import string\n",
    "from nltk.corpus import stopwords\n",
    "from itertools import compress\n",
    "\n",
    "import gzip\n",
    "import gensim\n",
    "import logging\n",
    "from sklearn.metrics import accuracy_score\n",
    "\n",
    "import re\n",
    "import numpy as np\n",
    "from functools import reduce\n",
    "\n",
    "logging.basicConfig(format='%(asctime)s : %(levelname)s : %(message)s', level=logging.INFO)"
   ]
  },
  {
   "cell_type": "markdown",
   "metadata": {},
   "source": [
    "### Transforming Sample Data ###"
   ]
  },
  {
   "cell_type": "code",
   "execution_count": 14,
   "metadata": {},
   "outputs": [],
   "source": [
    "reviews_sample = pd.read_csv('./Data/reviews_sample.csv')"
   ]
  },
  {
   "cell_type": "code",
   "execution_count": null,
   "metadata": {},
   "outputs": [],
   "source": [
    "# feature additions to detect polarity\n",
    "\n",
    "reviews_sample['num_exclamation'] = reviews_sample['text'].map(lambda x: x.count('!'))\n",
    "reviews_sample['percent_UPPER'] = reviews_sample['text'].map(lambda x: len(re.findall(r'[A-Z]', x)) / len(x))\n",
    "reviews_sample['frowny'] = reviews_sample['text'].map(lambda x: len(re.findall(':\\(', x)) + len(re.findall(':-\\(', x)))"
   ]
  },
  {
   "cell_type": "code",
   "execution_count": 24,
   "metadata": {},
   "outputs": [],
   "source": [
    "# feature additions to detect positive vs negative\n",
    "\n",
    "#reviews_sample['len_review'] = reviews_sample['text'].map(lambda x: len(x.split(' ')))\n",
    "reviews_sample['smiley'] = reviews_sample['text'].map(lambda x: len(re.findall(':\\)', x)) + len(re.findall(':-\\)', x)))"
   ]
  },
  {
   "cell_type": "code",
   "execution_count": 25,
   "metadata": {},
   "outputs": [],
   "source": [
    "# categorizing rating as positive or negative\n",
    "\n",
    "def pos_or_neg(stars):\n",
    "    if(stars < 4):\n",
    "        return 'neg'\n",
    "    else:\n",
    "        return 'pos'\n",
    "    \n",
    "reviews_sample['pos_or_neg'] = reviews_sample['stars'].map(lambda x: pos_or_neg(x)) "
   ]
  },
  {
   "cell_type": "code",
   "execution_count": 26,
   "metadata": {},
   "outputs": [],
   "source": [
    "# categorizing rating as strong opinion (1 or 5 stars) or weak\n",
    "\n",
    "def is_polarized(stars):\n",
    "    if((stars == 1) | (stars == 5)):\n",
    "        return 1\n",
    "    else:\n",
    "        return 0\n",
    "   \n",
    "reviews_sample['polarized'] = reviews_sample['stars'].map(lambda x: is_polarized(x))"
   ]
  },
  {
   "cell_type": "code",
   "execution_count": 27,
   "metadata": {},
   "outputs": [],
   "source": [
    "ps = PorterStemmer()\n",
    "\n",
    "processed_text = reviews_sample['text'].map(lambda x: x.translate(str.maketrans('', '', string.punctuation))) # remove punctuation\n",
    "processed_text = processed_text.str.lower() # make all lower case\n",
    "\n",
    "reviews_sample['tokens'] = processed_text.map(lambda x: nltk.word_tokenize(x)) # tokenize words"
   ]
  },
  {
   "cell_type": "code",
   "execution_count": 28,
   "metadata": {},
   "outputs": [],
   "source": [
    "reviews_sample['tokens'] = reviews_sample['tokens'].map(lambda x: [ps.stem(y) for y in x]) # stemming words"
   ]
  },
  {
   "cell_type": "code",
   "execution_count": 29,
   "metadata": {},
   "outputs": [
    {
     "name": "stderr",
     "output_type": "stream",
     "text": [
      "2020-09-02 13:09:26,902 : WARNING : consider setting layer size to a multiple of 4 for greater performance\n",
      "2020-09-02 13:09:26,903 : INFO : collecting all words and their counts\n",
      "2020-09-02 13:09:26,904 : INFO : PROGRESS: at sentence #0, processed 0 words, keeping 0 word types\n",
      "2020-09-02 13:09:27,312 : INFO : collected 22954 word types from a corpus of 1056036 raw words and 10000 sentences\n",
      "2020-09-02 13:09:27,316 : INFO : Loading a fresh vocabulary\n",
      "2020-09-02 13:09:27,348 : INFO : effective_min_count=10 retains 4183 unique words (18% of original 22954, drops 18771)\n",
      "2020-09-02 13:09:27,350 : INFO : effective_min_count=10 leaves 1017549 word corpus (96% of original 1056036, drops 38487)\n",
      "2020-09-02 13:09:27,385 : INFO : deleting the raw counts dictionary of 22954 items\n",
      "2020-09-02 13:09:27,390 : INFO : sample=0.001 downsamples 58 most-common words\n",
      "2020-09-02 13:09:27,396 : INFO : downsampling leaves estimated 741350 word corpus (72.9% of prior 1017549)\n",
      "2020-09-02 13:09:27,428 : INFO : estimated required memory for 4183 words and 150 dimensions: 7111100 bytes\n",
      "2020-09-02 13:09:27,431 : INFO : resetting layer weights\n",
      "2020-09-02 13:09:27,565 : INFO : training model with 10 workers on 4183 vocabulary and 150 features, using sg=0 hs=0 sample=0.001 negative=5 window=10\n",
      "2020-09-02 13:09:28,401 : INFO : worker thread finished; awaiting finish of 9 more threads\n",
      "2020-09-02 13:09:28,418 : INFO : worker thread finished; awaiting finish of 8 more threads\n",
      "2020-09-02 13:09:28,419 : INFO : worker thread finished; awaiting finish of 7 more threads\n",
      "2020-09-02 13:09:28,420 : INFO : worker thread finished; awaiting finish of 6 more threads\n",
      "2020-09-02 13:09:28,423 : INFO : worker thread finished; awaiting finish of 5 more threads\n",
      "2020-09-02 13:09:28,428 : INFO : worker thread finished; awaiting finish of 4 more threads\n",
      "2020-09-02 13:09:28,438 : INFO : worker thread finished; awaiting finish of 3 more threads\n",
      "2020-09-02 13:09:28,440 : INFO : worker thread finished; awaiting finish of 2 more threads\n",
      "2020-09-02 13:09:28,441 : INFO : worker thread finished; awaiting finish of 1 more threads\n",
      "2020-09-02 13:09:28,443 : INFO : worker thread finished; awaiting finish of 0 more threads\n",
      "2020-09-02 13:09:28,444 : INFO : EPOCH - 1 : training on 1056036 raw words (741978 effective words) took 0.9s, 858267 effective words/s\n",
      "2020-09-02 13:09:29,239 : INFO : worker thread finished; awaiting finish of 9 more threads\n",
      "2020-09-02 13:09:29,258 : INFO : worker thread finished; awaiting finish of 8 more threads\n",
      "2020-09-02 13:09:29,260 : INFO : worker thread finished; awaiting finish of 7 more threads\n",
      "2020-09-02 13:09:29,269 : INFO : worker thread finished; awaiting finish of 6 more threads\n",
      "2020-09-02 13:09:29,271 : INFO : worker thread finished; awaiting finish of 5 more threads\n",
      "2020-09-02 13:09:29,273 : INFO : worker thread finished; awaiting finish of 4 more threads\n",
      "2020-09-02 13:09:29,274 : INFO : worker thread finished; awaiting finish of 3 more threads\n",
      "2020-09-02 13:09:29,278 : INFO : worker thread finished; awaiting finish of 2 more threads\n",
      "2020-09-02 13:09:29,281 : INFO : worker thread finished; awaiting finish of 1 more threads\n",
      "2020-09-02 13:09:29,283 : INFO : worker thread finished; awaiting finish of 0 more threads\n",
      "2020-09-02 13:09:29,284 : INFO : EPOCH - 2 : training on 1056036 raw words (741173 effective words) took 0.8s, 891705 effective words/s\n",
      "2020-09-02 13:09:30,074 : INFO : worker thread finished; awaiting finish of 9 more threads\n",
      "2020-09-02 13:09:30,088 : INFO : worker thread finished; awaiting finish of 8 more threads\n",
      "2020-09-02 13:09:30,092 : INFO : worker thread finished; awaiting finish of 7 more threads\n",
      "2020-09-02 13:09:30,102 : INFO : worker thread finished; awaiting finish of 6 more threads\n",
      "2020-09-02 13:09:30,104 : INFO : worker thread finished; awaiting finish of 5 more threads\n",
      "2020-09-02 13:09:30,110 : INFO : worker thread finished; awaiting finish of 4 more threads\n",
      "2020-09-02 13:09:30,119 : INFO : worker thread finished; awaiting finish of 3 more threads\n",
      "2020-09-02 13:09:30,120 : INFO : worker thread finished; awaiting finish of 2 more threads\n",
      "2020-09-02 13:09:30,122 : INFO : worker thread finished; awaiting finish of 1 more threads\n",
      "2020-09-02 13:09:30,128 : INFO : worker thread finished; awaiting finish of 0 more threads\n",
      "2020-09-02 13:09:30,129 : INFO : EPOCH - 3 : training on 1056036 raw words (740773 effective words) took 0.8s, 885696 effective words/s\n",
      "2020-09-02 13:09:30,900 : INFO : worker thread finished; awaiting finish of 9 more threads\n",
      "2020-09-02 13:09:30,918 : INFO : worker thread finished; awaiting finish of 8 more threads\n",
      "2020-09-02 13:09:30,920 : INFO : worker thread finished; awaiting finish of 7 more threads\n",
      "2020-09-02 13:09:30,926 : INFO : worker thread finished; awaiting finish of 6 more threads\n",
      "2020-09-02 13:09:30,928 : INFO : worker thread finished; awaiting finish of 5 more threads\n",
      "2020-09-02 13:09:30,932 : INFO : worker thread finished; awaiting finish of 4 more threads\n",
      "2020-09-02 13:09:30,942 : INFO : worker thread finished; awaiting finish of 3 more threads\n",
      "2020-09-02 13:09:30,944 : INFO : worker thread finished; awaiting finish of 2 more threads\n",
      "2020-09-02 13:09:30,949 : INFO : worker thread finished; awaiting finish of 1 more threads\n",
      "2020-09-02 13:09:30,950 : INFO : worker thread finished; awaiting finish of 0 more threads\n",
      "2020-09-02 13:09:30,952 : INFO : EPOCH - 4 : training on 1056036 raw words (741190 effective words) took 0.8s, 915644 effective words/s\n",
      "2020-09-02 13:09:31,738 : INFO : worker thread finished; awaiting finish of 9 more threads\n",
      "2020-09-02 13:09:31,747 : INFO : worker thread finished; awaiting finish of 8 more threads\n",
      "2020-09-02 13:09:31,755 : INFO : worker thread finished; awaiting finish of 7 more threads\n",
      "2020-09-02 13:09:31,760 : INFO : worker thread finished; awaiting finish of 6 more threads\n",
      "2020-09-02 13:09:31,762 : INFO : worker thread finished; awaiting finish of 5 more threads\n",
      "2020-09-02 13:09:31,763 : INFO : worker thread finished; awaiting finish of 4 more threads\n",
      "2020-09-02 13:09:31,774 : INFO : worker thread finished; awaiting finish of 3 more threads\n",
      "2020-09-02 13:09:31,774 : INFO : worker thread finished; awaiting finish of 2 more threads\n",
      "2020-09-02 13:09:31,778 : INFO : worker thread finished; awaiting finish of 1 more threads\n",
      "2020-09-02 13:09:31,783 : INFO : worker thread finished; awaiting finish of 0 more threads\n",
      "2020-09-02 13:09:31,784 : INFO : EPOCH - 5 : training on 1056036 raw words (741504 effective words) took 0.8s, 901410 effective words/s\n",
      "2020-09-02 13:09:32,598 : INFO : worker thread finished; awaiting finish of 9 more threads\n",
      "2020-09-02 13:09:32,618 : INFO : worker thread finished; awaiting finish of 8 more threads\n",
      "2020-09-02 13:09:32,624 : INFO : worker thread finished; awaiting finish of 7 more threads\n",
      "2020-09-02 13:09:32,628 : INFO : worker thread finished; awaiting finish of 6 more threads\n",
      "2020-09-02 13:09:32,631 : INFO : worker thread finished; awaiting finish of 5 more threads\n",
      "2020-09-02 13:09:32,638 : INFO : worker thread finished; awaiting finish of 4 more threads\n",
      "2020-09-02 13:09:32,645 : INFO : worker thread finished; awaiting finish of 3 more threads\n",
      "2020-09-02 13:09:32,646 : INFO : worker thread finished; awaiting finish of 2 more threads\n",
      "2020-09-02 13:09:32,648 : INFO : worker thread finished; awaiting finish of 1 more threads\n",
      "2020-09-02 13:09:32,651 : INFO : worker thread finished; awaiting finish of 0 more threads\n",
      "2020-09-02 13:09:32,653 : INFO : EPOCH - 6 : training on 1056036 raw words (741179 effective words) took 0.9s, 866537 effective words/s\n",
      "2020-09-02 13:09:33,440 : INFO : worker thread finished; awaiting finish of 9 more threads\n",
      "2020-09-02 13:09:33,451 : INFO : worker thread finished; awaiting finish of 8 more threads\n",
      "2020-09-02 13:09:33,453 : INFO : worker thread finished; awaiting finish of 7 more threads\n",
      "2020-09-02 13:09:33,458 : INFO : worker thread finished; awaiting finish of 6 more threads\n",
      "2020-09-02 13:09:33,462 : INFO : worker thread finished; awaiting finish of 5 more threads\n",
      "2020-09-02 13:09:33,470 : INFO : worker thread finished; awaiting finish of 4 more threads\n",
      "2020-09-02 13:09:33,473 : INFO : worker thread finished; awaiting finish of 3 more threads\n",
      "2020-09-02 13:09:33,474 : INFO : worker thread finished; awaiting finish of 2 more threads\n"
     ]
    },
    {
     "name": "stderr",
     "output_type": "stream",
     "text": [
      "2020-09-02 13:09:33,478 : INFO : worker thread finished; awaiting finish of 1 more threads\n",
      "2020-09-02 13:09:33,480 : INFO : worker thread finished; awaiting finish of 0 more threads\n",
      "2020-09-02 13:09:33,481 : INFO : EPOCH - 7 : training on 1056036 raw words (741609 effective words) took 0.8s, 903822 effective words/s\n",
      "2020-09-02 13:09:34,321 : INFO : worker thread finished; awaiting finish of 9 more threads\n",
      "2020-09-02 13:09:34,338 : INFO : worker thread finished; awaiting finish of 8 more threads\n",
      "2020-09-02 13:09:34,342 : INFO : worker thread finished; awaiting finish of 7 more threads\n",
      "2020-09-02 13:09:34,345 : INFO : worker thread finished; awaiting finish of 6 more threads\n",
      "2020-09-02 13:09:34,355 : INFO : worker thread finished; awaiting finish of 5 more threads\n",
      "2020-09-02 13:09:34,362 : INFO : worker thread finished; awaiting finish of 4 more threads\n",
      "2020-09-02 13:09:34,363 : INFO : worker thread finished; awaiting finish of 3 more threads\n",
      "2020-09-02 13:09:34,370 : INFO : worker thread finished; awaiting finish of 2 more threads\n",
      "2020-09-02 13:09:34,372 : INFO : worker thread finished; awaiting finish of 1 more threads\n",
      "2020-09-02 13:09:34,373 : INFO : worker thread finished; awaiting finish of 0 more threads\n",
      "2020-09-02 13:09:34,373 : INFO : EPOCH - 8 : training on 1056036 raw words (740992 effective words) took 0.9s, 840807 effective words/s\n",
      "2020-09-02 13:09:35,170 : INFO : worker thread finished; awaiting finish of 9 more threads\n",
      "2020-09-02 13:09:35,179 : INFO : worker thread finished; awaiting finish of 8 more threads\n",
      "2020-09-02 13:09:35,182 : INFO : worker thread finished; awaiting finish of 7 more threads\n",
      "2020-09-02 13:09:35,183 : INFO : worker thread finished; awaiting finish of 6 more threads\n",
      "2020-09-02 13:09:35,199 : INFO : worker thread finished; awaiting finish of 5 more threads\n",
      "2020-09-02 13:09:35,209 : INFO : worker thread finished; awaiting finish of 4 more threads\n",
      "2020-09-02 13:09:35,215 : INFO : worker thread finished; awaiting finish of 3 more threads\n",
      "2020-09-02 13:09:35,217 : INFO : worker thread finished; awaiting finish of 2 more threads\n",
      "2020-09-02 13:09:35,218 : INFO : worker thread finished; awaiting finish of 1 more threads\n",
      "2020-09-02 13:09:35,220 : INFO : worker thread finished; awaiting finish of 0 more threads\n",
      "2020-09-02 13:09:35,221 : INFO : EPOCH - 9 : training on 1056036 raw words (741886 effective words) took 0.8s, 886495 effective words/s\n",
      "2020-09-02 13:09:36,025 : INFO : worker thread finished; awaiting finish of 9 more threads\n",
      "2020-09-02 13:09:36,037 : INFO : worker thread finished; awaiting finish of 8 more threads\n",
      "2020-09-02 13:09:36,038 : INFO : worker thread finished; awaiting finish of 7 more threads\n",
      "2020-09-02 13:09:36,039 : INFO : worker thread finished; awaiting finish of 6 more threads\n",
      "2020-09-02 13:09:36,055 : INFO : worker thread finished; awaiting finish of 5 more threads\n",
      "2020-09-02 13:09:36,062 : INFO : worker thread finished; awaiting finish of 4 more threads\n",
      "2020-09-02 13:09:36,064 : INFO : worker thread finished; awaiting finish of 3 more threads\n",
      "2020-09-02 13:09:36,065 : INFO : worker thread finished; awaiting finish of 2 more threads\n",
      "2020-09-02 13:09:36,066 : INFO : worker thread finished; awaiting finish of 1 more threads\n",
      "2020-09-02 13:09:36,067 : INFO : worker thread finished; awaiting finish of 0 more threads\n",
      "2020-09-02 13:09:36,069 : INFO : EPOCH - 10 : training on 1056036 raw words (741303 effective words) took 0.8s, 896831 effective words/s\n",
      "2020-09-02 13:09:36,070 : INFO : training on a 10560360 raw words (7413587 effective words) took 8.5s, 871838 effective words/s\n"
     ]
    }
   ],
   "source": [
    "word2vec_model = gensim.models.Word2Vec(\n",
    "    reviews_sample['tokens'],\n",
    "    size = 150,\n",
    "    window = 10,\n",
    "    min_count = 10,\n",
    "    workers = 10,\n",
    "    iter = 10)"
   ]
  },
  {
   "cell_type": "code",
   "execution_count": 30,
   "metadata": {},
   "outputs": [
    {
     "name": "stderr",
     "output_type": "stream",
     "text": [
      "C:\\Users\\phoenix.gaylor\\AppData\\Local\\Continuum\\anaconda3\\lib\\site-packages\\ipykernel_launcher.py:6: DeprecationWarning: Call to deprecated `__getitem__` (Method will be removed in 4.0.0, use self.wv.__getitem__() instead).\n",
      "  \n"
     ]
    }
   ],
   "source": [
    "def sentence_embeddings(sentence):\n",
    "    sum = 0\n",
    "\n",
    "    for i in sentence:\n",
    "        if i in word2vec_model.wv:\n",
    "            sum += word2vec_model[i]\n",
    "        else:\n",
    "            pass\n",
    "    return (sum / len(sentence))\n",
    "\n",
    "reviews_sample['embeddings'] = reviews_sample['tokens'].map(lambda x: sentence_embeddings(x)) # creating word embeddings"
   ]
  },
  {
   "cell_type": "code",
   "execution_count": 31,
   "metadata": {},
   "outputs": [],
   "source": [
    "reviews_sample_slim = reviews_sample.drop(['text', 'tokens'], axis = 1)\n",
    "\n",
    "X_train, X_test, y_train, y_test = train_test_split(reviews_sample_slim.drop(['stars', 'pos_or_neg'], axis = 1), reviews_sample['pos_or_neg'], test_size=0.33, random_state=42)\n",
    "\n",
    "def reduce_observation(observation):\n",
    "    return reduce(np.append, observation)\n",
    "\n",
    "X_train = X_train.apply(lambda x: reduce_observation(x), axis = 1)\n",
    "X_test = X_test.apply(lambda x: reduce_observation(x), axis = 1)"
   ]
  },
  {
   "cell_type": "code",
   "execution_count": 35,
   "metadata": {},
   "outputs": [
    {
     "data": {
      "text/plain": [
       "0.8624242424242424"
      ]
     },
     "execution_count": 35,
     "metadata": {},
     "output_type": "execute_result"
    }
   ],
   "source": [
    "model = LinearSVC(random_state=0)\n",
    "model.fit(X_train.tolist(), y_train)\n",
    "\n",
    "y_pred = model.predict(X_test.tolist())\n",
    "accuracy_score(y_test, y_pred)"
   ]
  },
  {
   "cell_type": "code",
   "execution_count": 36,
   "metadata": {},
   "outputs": [
    {
     "data": {
      "text/plain": [
       "array([[ 907,  242],\n",
       "       [ 212, 1939]], dtype=int64)"
      ]
     },
     "execution_count": 36,
     "metadata": {},
     "output_type": "execute_result"
    }
   ],
   "source": [
    "confusion_matrix(y_test, y_pred)"
   ]
  },
  {
   "cell_type": "code",
   "execution_count": 38,
   "metadata": {},
   "outputs": [
    {
     "data": {
      "text/html": [
       "<div>\n",
       "<style scoped>\n",
       "    .dataframe tbody tr th:only-of-type {\n",
       "        vertical-align: middle;\n",
       "    }\n",
       "\n",
       "    .dataframe tbody tr th {\n",
       "        vertical-align: top;\n",
       "    }\n",
       "\n",
       "    .dataframe thead th {\n",
       "        text-align: right;\n",
       "    }\n",
       "</style>\n",
       "<table border=\"1\" class=\"dataframe\">\n",
       "  <thead>\n",
       "    <tr style=\"text-align: right;\">\n",
       "      <th></th>\n",
       "      <th>0</th>\n",
       "      <th>pos_or_neg</th>\n",
       "      <th>pred_stars</th>\n",
       "    </tr>\n",
       "  </thead>\n",
       "  <tbody>\n",
       "    <tr>\n",
       "      <td>6252</td>\n",
       "      <td>[0.41028234362602234, -0.18730618059635162, 0....</td>\n",
       "      <td>pos</td>\n",
       "      <td>pos</td>\n",
       "    </tr>\n",
       "    <tr>\n",
       "      <td>4684</td>\n",
       "      <td>[-0.074729785323143, -0.24098823964595795, -0....</td>\n",
       "      <td>pos</td>\n",
       "      <td>pos</td>\n",
       "    </tr>\n",
       "    <tr>\n",
       "      <td>1731</td>\n",
       "      <td>[0.09801438450813293, -0.889679491519928, 0.49...</td>\n",
       "      <td>neg</td>\n",
       "      <td>neg</td>\n",
       "    </tr>\n",
       "    <tr>\n",
       "      <td>4742</td>\n",
       "      <td>[0.18766193091869354, -0.517037034034729, 0.17...</td>\n",
       "      <td>neg</td>\n",
       "      <td>neg</td>\n",
       "    </tr>\n",
       "    <tr>\n",
       "      <td>4521</td>\n",
       "      <td>[0.23474937677383423, -0.06934019178152084, -0...</td>\n",
       "      <td>neg</td>\n",
       "      <td>neg</td>\n",
       "    </tr>\n",
       "  </tbody>\n",
       "</table>\n",
       "</div>"
      ],
      "text/plain": [
       "                                                      0 pos_or_neg pred_stars\n",
       "6252  [0.41028234362602234, -0.18730618059635162, 0....        pos        pos\n",
       "4684  [-0.074729785323143, -0.24098823964595795, -0....        pos        pos\n",
       "1731  [0.09801438450813293, -0.889679491519928, 0.49...        neg        neg\n",
       "4742  [0.18766193091869354, -0.517037034034729, 0.17...        neg        neg\n",
       "4521  [0.23474937677383423, -0.06934019178152084, -0...        neg        neg"
      ]
     },
     "execution_count": 38,
     "metadata": {},
     "output_type": "execute_result"
    }
   ],
   "source": [
    "classified_samples = pd.concat([X_test[y_pred == y_test], y_test[y_pred == y_test]], axis=1)\n",
    "classified_samples['pred_stars'] = list(compress(y_pred, y_pred==y_test))\n",
    "\n",
    "classified_samples = classified_samples.rename(columns={'stars': 'actual_stars'})\n",
    "classified_samples.head()"
   ]
  },
  {
   "cell_type": "code",
   "execution_count": 40,
   "metadata": {},
   "outputs": [
    {
     "data": {
      "text/html": [
       "<div>\n",
       "<style scoped>\n",
       "    .dataframe tbody tr th:only-of-type {\n",
       "        vertical-align: middle;\n",
       "    }\n",
       "\n",
       "    .dataframe tbody tr th {\n",
       "        vertical-align: top;\n",
       "    }\n",
       "\n",
       "    .dataframe thead th {\n",
       "        text-align: right;\n",
       "    }\n",
       "</style>\n",
       "<table border=\"1\" class=\"dataframe\">\n",
       "  <thead>\n",
       "    <tr style=\"text-align: right;\">\n",
       "      <th></th>\n",
       "      <th>0</th>\n",
       "      <th>pos_or_neg</th>\n",
       "      <th>pred_stars</th>\n",
       "    </tr>\n",
       "  </thead>\n",
       "  <tbody>\n",
       "    <tr>\n",
       "      <td>439</td>\n",
       "      <td>[0.3753794729709625, -0.5895034670829773, -0.0...</td>\n",
       "      <td>pos</td>\n",
       "      <td>neg</td>\n",
       "    </tr>\n",
       "    <tr>\n",
       "      <td>582</td>\n",
       "      <td>[0.06692862510681152, -0.5167813897132874, 0.6...</td>\n",
       "      <td>pos</td>\n",
       "      <td>neg</td>\n",
       "    </tr>\n",
       "    <tr>\n",
       "      <td>2249</td>\n",
       "      <td>[0.4236672818660736, -0.15592585504055023, -0....</td>\n",
       "      <td>neg</td>\n",
       "      <td>pos</td>\n",
       "    </tr>\n",
       "    <tr>\n",
       "      <td>9485</td>\n",
       "      <td>[-0.12759684026241302, 0.05899722874164581, -0...</td>\n",
       "      <td>neg</td>\n",
       "      <td>pos</td>\n",
       "    </tr>\n",
       "    <tr>\n",
       "      <td>4947</td>\n",
       "      <td>[-0.20715832710266113, -0.24915523827075958, -...</td>\n",
       "      <td>pos</td>\n",
       "      <td>neg</td>\n",
       "    </tr>\n",
       "  </tbody>\n",
       "</table>\n",
       "</div>"
      ],
      "text/plain": [
       "                                                      0 pos_or_neg pred_stars\n",
       "439   [0.3753794729709625, -0.5895034670829773, -0.0...        pos        neg\n",
       "582   [0.06692862510681152, -0.5167813897132874, 0.6...        pos        neg\n",
       "2249  [0.4236672818660736, -0.15592585504055023, -0....        neg        pos\n",
       "9485  [-0.12759684026241302, 0.05899722874164581, -0...        neg        pos\n",
       "4947  [-0.20715832710266113, -0.24915523827075958, -...        pos        neg"
      ]
     },
     "execution_count": 40,
     "metadata": {},
     "output_type": "execute_result"
    }
   ],
   "source": [
    "misclassified_samples = pd.concat([X_test[y_pred != y_test], y_test[y_pred != y_test]], axis=1)\n",
    "misclassified_samples['pred_stars'] = list(compress(y_pred, y_pred!=y_test))\n",
    "\n",
    "misclassified_samples = misclassified_samples.rename(columns={'stars': 'actual_stars'})\n",
    "misclassified_samples.head()"
   ]
  }
 ],
 "metadata": {
  "kernelspec": {
   "display_name": "Python 3",
   "language": "python",
   "name": "python3"
  },
  "language_info": {
   "codemirror_mode": {
    "name": "ipython",
    "version": 3
   },
   "file_extension": ".py",
   "mimetype": "text/x-python",
   "name": "python",
   "nbconvert_exporter": "python",
   "pygments_lexer": "ipython3",
   "version": "3.7.4"
  }
 },
 "nbformat": 4,
 "nbformat_minor": 2
}
