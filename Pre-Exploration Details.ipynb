{
 "cells": [
  {
   "cell_type": "code",
   "execution_count": 39,
   "metadata": {},
   "outputs": [],
   "source": [
    "import pandas as pd\n",
    "import numpy as np\n",
    "import json"
   ]
  },
  {
   "cell_type": "code",
   "execution_count": 9,
   "metadata": {},
   "outputs": [],
   "source": [
    "businesses = pd.read_csv('businesses_detailed.csv')\n",
    "businesses = businesses.drop('Unnamed: 0', axis = 1)"
   ]
  },
  {
   "cell_type": "code",
   "execution_count": 55,
   "metadata": {},
   "outputs": [
    {
     "ename": "SyntaxError",
     "evalue": "EOF while scanning triple-quoted string literal (<ipython-input-55-c20c4dafd397>, line 1)",
     "output_type": "error",
     "traceback": [
      "\u001b[1;36m  File \u001b[1;32m\"<ipython-input-55-c20c4dafd397>\"\u001b[1;36m, line \u001b[1;32m1\u001b[0m\n\u001b[1;33m    businesses['business_hours'][0].replace(\"\"\", \"'\")\u001b[0m\n\u001b[1;37m                                                     ^\u001b[0m\n\u001b[1;31mSyntaxError\u001b[0m\u001b[1;31m:\u001b[0m EOF while scanning triple-quoted string literal\n"
     ]
    }
   ],
   "source": [
    "businesses['business_hours'][0].replace(\"\"\", \"'\")"
   ]
  },
  {
   "cell_type": "code",
   "execution_count": 56,
   "metadata": {},
   "outputs": [],
   "source": [
    "def days_open(hours):\n",
    "\n",
    "    hours_trf = json.loads(hours.replace(\"'\", '\"'))\n",
    "\n",
    "    days_open = list(hours_trf.keys())\n",
    "    num_days_open = len(days_open)\n",
    "    \n",
    "    return days_open, num_days_open"
   ]
  },
  {
   "cell_type": "code",
   "execution_count": 61,
   "metadata": {},
   "outputs": [
    {
     "ename": "TypeError",
     "evalue": "'list' object is not callable",
     "output_type": "error",
     "traceback": [
      "\u001b[1;31m---------------------------------------------------------------------------\u001b[0m",
      "\u001b[1;31mTypeError\u001b[0m                                 Traceback (most recent call last)",
      "\u001b[1;32m<ipython-input-61-1035d364b775>\u001b[0m in \u001b[0;36m<module>\u001b[1;34m\u001b[0m\n\u001b[1;32m----> 1\u001b[1;33m \u001b[0mbusinesses\u001b[0m\u001b[1;33m[\u001b[0m\u001b[1;34m'business_hours'\u001b[0m\u001b[1;33m]\u001b[0m\u001b[1;33m[\u001b[0m\u001b[1;36m0\u001b[0m\u001b[1;33m:\u001b[0m\u001b[1;36m1\u001b[0m\u001b[1;33m]\u001b[0m\u001b[1;33m.\u001b[0m\u001b[0mmap\u001b[0m\u001b[1;33m(\u001b[0m\u001b[1;32mlambda\u001b[0m \u001b[0mx\u001b[0m\u001b[1;33m:\u001b[0m \u001b[0mdays_open\u001b[0m\u001b[1;33m(\u001b[0m\u001b[0mx\u001b[0m\u001b[1;33m)\u001b[0m\u001b[1;33m)\u001b[0m\u001b[1;33m\u001b[0m\u001b[1;33m\u001b[0m\u001b[0m\n\u001b[0m",
      "\u001b[1;32m~\\AppData\\Local\\Continuum\\anaconda3\\lib\\site-packages\\pandas\\core\\series.py\u001b[0m in \u001b[0;36mmap\u001b[1;34m(self, arg, na_action)\u001b[0m\n\u001b[0;32m   3823\u001b[0m         \u001b[0mdtype\u001b[0m\u001b[1;33m:\u001b[0m \u001b[0mobject\u001b[0m\u001b[1;33m\u001b[0m\u001b[1;33m\u001b[0m\u001b[0m\n\u001b[0;32m   3824\u001b[0m         \"\"\"\n\u001b[1;32m-> 3825\u001b[1;33m         \u001b[0mnew_values\u001b[0m \u001b[1;33m=\u001b[0m \u001b[0msuper\u001b[0m\u001b[1;33m(\u001b[0m\u001b[1;33m)\u001b[0m\u001b[1;33m.\u001b[0m\u001b[0m_map_values\u001b[0m\u001b[1;33m(\u001b[0m\u001b[0marg\u001b[0m\u001b[1;33m,\u001b[0m \u001b[0mna_action\u001b[0m\u001b[1;33m=\u001b[0m\u001b[0mna_action\u001b[0m\u001b[1;33m)\u001b[0m\u001b[1;33m\u001b[0m\u001b[1;33m\u001b[0m\u001b[0m\n\u001b[0m\u001b[0;32m   3826\u001b[0m         \u001b[1;32mreturn\u001b[0m \u001b[0mself\u001b[0m\u001b[1;33m.\u001b[0m\u001b[0m_constructor\u001b[0m\u001b[1;33m(\u001b[0m\u001b[0mnew_values\u001b[0m\u001b[1;33m,\u001b[0m \u001b[0mindex\u001b[0m\u001b[1;33m=\u001b[0m\u001b[0mself\u001b[0m\u001b[1;33m.\u001b[0m\u001b[0mindex\u001b[0m\u001b[1;33m)\u001b[0m\u001b[1;33m.\u001b[0m\u001b[0m__finalize__\u001b[0m\u001b[1;33m(\u001b[0m\u001b[0mself\u001b[0m\u001b[1;33m)\u001b[0m\u001b[1;33m\u001b[0m\u001b[1;33m\u001b[0m\u001b[0m\n\u001b[0;32m   3827\u001b[0m \u001b[1;33m\u001b[0m\u001b[0m\n",
      "\u001b[1;32m~\\AppData\\Local\\Continuum\\anaconda3\\lib\\site-packages\\pandas\\core\\base.py\u001b[0m in \u001b[0;36m_map_values\u001b[1;34m(self, mapper, na_action)\u001b[0m\n\u001b[0;32m   1298\u001b[0m \u001b[1;33m\u001b[0m\u001b[0m\n\u001b[0;32m   1299\u001b[0m         \u001b[1;31m# mapper is a function\u001b[0m\u001b[1;33m\u001b[0m\u001b[1;33m\u001b[0m\u001b[1;33m\u001b[0m\u001b[0m\n\u001b[1;32m-> 1300\u001b[1;33m         \u001b[0mnew_values\u001b[0m \u001b[1;33m=\u001b[0m \u001b[0mmap_f\u001b[0m\u001b[1;33m(\u001b[0m\u001b[0mvalues\u001b[0m\u001b[1;33m,\u001b[0m \u001b[0mmapper\u001b[0m\u001b[1;33m)\u001b[0m\u001b[1;33m\u001b[0m\u001b[1;33m\u001b[0m\u001b[0m\n\u001b[0m\u001b[0;32m   1301\u001b[0m \u001b[1;33m\u001b[0m\u001b[0m\n\u001b[0;32m   1302\u001b[0m         \u001b[1;32mreturn\u001b[0m \u001b[0mnew_values\u001b[0m\u001b[1;33m\u001b[0m\u001b[1;33m\u001b[0m\u001b[0m\n",
      "\u001b[1;32mpandas\\_libs\\lib.pyx\u001b[0m in \u001b[0;36mpandas._libs.lib.map_infer\u001b[1;34m()\u001b[0m\n",
      "\u001b[1;32m<ipython-input-61-1035d364b775>\u001b[0m in \u001b[0;36m<lambda>\u001b[1;34m(x)\u001b[0m\n\u001b[1;32m----> 1\u001b[1;33m \u001b[0mbusinesses\u001b[0m\u001b[1;33m[\u001b[0m\u001b[1;34m'business_hours'\u001b[0m\u001b[1;33m]\u001b[0m\u001b[1;33m[\u001b[0m\u001b[1;36m0\u001b[0m\u001b[1;33m:\u001b[0m\u001b[1;36m1\u001b[0m\u001b[1;33m]\u001b[0m\u001b[1;33m.\u001b[0m\u001b[0mmap\u001b[0m\u001b[1;33m(\u001b[0m\u001b[1;32mlambda\u001b[0m \u001b[0mx\u001b[0m\u001b[1;33m:\u001b[0m \u001b[0mdays_open\u001b[0m\u001b[1;33m(\u001b[0m\u001b[0mx\u001b[0m\u001b[1;33m)\u001b[0m\u001b[1;33m)\u001b[0m\u001b[1;33m\u001b[0m\u001b[1;33m\u001b[0m\u001b[0m\n\u001b[0m",
      "\u001b[1;31mTypeError\u001b[0m: 'list' object is not callable"
     ]
    }
   ],
   "source": [
    "businesses['business_hours'][0:1].map(lambda x: days_open(x))"
   ]
  },
  {
   "cell_type": "code",
   "execution_count": 30,
   "metadata": {},
   "outputs": [
    {
     "data": {
      "text/plain": [
       "0           5\n",
       "1           1\n",
       "2           1\n",
       "3           0\n",
       "4           0\n",
       "         ... \n",
       "209388      2\n",
       "209389     53\n",
       "209390    161\n",
       "209391      0\n",
       "209392      0\n",
       "Name: checkins_late, Length: 209393, dtype: int64"
      ]
     },
     "execution_count": 30,
     "metadata": {},
     "output_type": "execute_result"
    }
   ],
   "source": [
    "# morning = 4am - before 12pm\n",
    "# afternoon = 12pm - before 6pm\n",
    "# evening = 6pm - before 11pm\n",
    "# late = 11pm - before 4am\n",
    "\n",
    "businesses['checkins_late']"
   ]
  },
  {
   "cell_type": "code",
   "execution_count": null,
   "metadata": {},
   "outputs": [],
   "source": [
    "i = [0, 5, 6, 8] # don't need to explore: business_id, business_attributes, business_tags, checkin_date\n",
    "j = [10, 11, 12, 13, 14] # all check-in times\n",
    "\n",
    "business.columns"
   ]
  },
  {
   "cell_type": "code",
   "execution_count": 23,
   "metadata": {},
   "outputs": [
    {
     "name": "stdout",
     "output_type": "stream",
     "text": [
      "Unspecified    153284\n",
      "True            48612\n",
      "False            7497\n",
      "Name: RestaurantsGoodForGroups, dtype: int64\n",
      "True           115361\n",
      "Unspecified     87247\n",
      "False            6785\n",
      "Name: BusinessAcceptsCreditCards, dtype: int64\n",
      "Unspecified      205141\n",
      "False              2230\n",
      "Outdoors Only      1619\n",
      "True                403\n",
      "Name: Smoking, dtype: int64\n",
      "Unspecified    151024\n",
      "False           33425\n",
      "True            24944\n",
      "Name: OutdoorSeating, dtype: int64\n",
      "Unspecified    148683\n",
      "False           35012\n",
      "True            25698\n",
      "Name: ByAppointmentOnly, dtype: int64\n",
      "Unspecified    188639\n",
      "True            13032\n",
      "False            7722\n",
      "Name: RestaurantsTableService, dtype: int64\n",
      "Unspecified    159885\n",
      "Casual          47999\n",
      "Formal           1509\n",
      "Name: RestaurantsAttire, dtype: int64\n",
      "Unspecified    94178\n",
      "True           68008\n",
      "False          47207\n",
      "Name: BusinessParking, dtype: int64\n",
      "Unspecified    194074\n",
      "True             9665\n",
      "False            5654\n",
      "Name: HappyHour, dtype: int64\n",
      "Unspecified    191893\n",
      "False           12934\n",
      "True             4566\n",
      "Name: DogsAllowed, dtype: int64\n",
      "Unspecified    153648\n",
      "False           34531\n",
      "True            21214\n",
      "Name: RestaurantsDelivery, dtype: int64\n",
      "Unspecified    143287\n",
      "True            59998\n",
      "False            6108\n",
      "Name: RestaurantsTakeOut, dtype: int64\n",
      "Unspecified    154358\n",
      "False           33394\n",
      "True            21641\n",
      "Name: RestaurantsReservations, dtype: int64\n",
      "Unspecified    162915\n",
      "Average         30515\n",
      "Quiet           10121\n",
      "Loud             4085\n",
      "Very Loud        1757\n",
      "Name: NoiseLevel, dtype: int64\n",
      "Unspecified    205115\n",
      "False            3251\n",
      "True             1027\n",
      "Name: DriveThru, dtype: int64\n",
      "Unspecified    98216\n",
      "$$             62825\n",
      "$              35405\n",
      "$$$            10651\n",
      "$$$$            2296\n",
      "Name: RestaurantsPriceRange2, dtype: int64\n",
      "Unspecified    119838\n",
      "True            69809\n",
      "False           19746\n",
      "Name: BikeParking, dtype: int64\n",
      "Unspecified    140934\n",
      "True            55527\n",
      "False           12932\n",
      "Name: GoodForKids, dtype: int64\n",
      "Unspecified    144186\n",
      "True            36984\n",
      "False           27376\n",
      "Paid Only         847\n",
      "Name: WiFi, dtype: int64\n",
      "Unspecified    180796\n",
      "True            24935\n",
      "False            3662\n",
      "Name: WheelchairAccessible, dtype: int64\n",
      "Unspecified    165563\n",
      "True            22842\n",
      "False           20988\n",
      "Name: Caters, dtype: int64\n",
      "Unspecified    200747\n",
      "True             6260\n",
      "False            2386\n",
      "Name: AcceptsInsurance, dtype: int64\n",
      "Unspecified    156055\n",
      "True            40233\n",
      "False           13105\n",
      "Name: HasTV, dtype: int64\n",
      "Unspecified           158645\n",
      "False                  22674\n",
      "Full Bar               21090\n",
      "Beer and Wine Only      6984\n",
      "Name: Alcohol, dtype: int64\n"
     ]
    }
   ],
   "source": [
    "# 0, 5, 6, 8\n",
    "\n",
    "\n",
    "# 1, 2, 4, 7, 9\n",
    "for attr in businesses.columns[15:]:\n",
    "    print(businesses[attr].value_counts())"
   ]
  },
  {
   "cell_type": "code",
   "execution_count": null,
   "metadata": {},
   "outputs": [],
   "source": []
  }
 ],
 "metadata": {
  "kernelspec": {
   "display_name": "Python 3",
   "language": "python",
   "name": "python3"
  },
  "language_info": {
   "codemirror_mode": {
    "name": "ipython",
    "version": 3
   },
   "file_extension": ".py",
   "mimetype": "text/x-python",
   "name": "python",
   "nbconvert_exporter": "python",
   "pygments_lexer": "ipython3",
   "version": "3.7.4"
  }
 },
 "nbformat": 4,
 "nbformat_minor": 2
}
