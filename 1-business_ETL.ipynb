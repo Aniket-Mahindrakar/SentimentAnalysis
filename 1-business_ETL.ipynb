{
 "cells": [
  {
   "cell_type": "code",
   "execution_count": null,
   "metadata": {},
   "outputs": [],
   "source": [
    "import pandas as pd\n",
    "import os\n",
    "import json\n",
    "import numpy as np\n",
    "import string"
   ]
  },
  {
   "cell_type": "code",
   "execution_count": null,
   "metadata": {},
   "outputs": [],
   "source": [
    "businesses = pd.read_json('Data/yelp_academic_dataset_business.json', lines = True)\n",
    "businesses = businesses.drop(['address', 'postal_code', 'longitude', 'latitude', 'is_open'], axis = 1)\n",
    "businesses.columns = ['business_id', *['business_' + col for col in businesses.columns[1:]]]\n",
    "\n",
    "check = pd.read_json('Data/yelp_academic_dataset_checkin.json', lines = True)\n",
    "check.columns = ['business_id', 'checkin_date']\n",
    "\n",
    "businesses = businesses.join(check.set_index('business_id'), on = 'business_id', how = 'left')\n",
    "\n",
    "del(check)"
   ]
  },
  {
   "cell_type": "code",
   "execution_count": null,
   "metadata": {},
   "outputs": [],
   "source": [
    "def categorize_tags(term):\n",
    "    \n",
    "    category = term\n",
    "    \n",
    "    if('auto' in term.lower()): category = 'Automotive'\n",
    "    elif('restaurant' in term.lower()): category = 'Restuarant'\n",
    "    elif('food' in term.lower()): category = 'Cafe'\n",
    "    elif('spa' in term.lower()): category = 'Spa'\n",
    "    elif('shop' in term.lower()): category = 'Shopping'\n",
    "    elif('entertainment') in term.lower(): category = 'Arts & Entertainment'\n",
    "    elif('hotel') in term.lower(): category = 'Hotel'\n",
    "    elif('pet') in term.lower(): category = 'Pet Services'\n",
    "    elif('active life') in term.lower(): category = 'Active Life'\n",
    "    elif('nightlife') in term.lower(): category = 'Nightlife'\n",
    "    elif('medical') in term.lower(): category = 'Medical'\n",
    "    elif('home services') in term.lower(): category = 'Home Services'\n",
    "    elif('education') in term.lower(): category = 'Education'\n",
    "    elif('local') in term.lower(): category = 'Local Services'\n",
    "    elif('professional') in term.lower(): category = 'Professional Services'\n",
    "    elif('financial') in term.lower(): category = 'Financial Services'\n",
    "    elif('public services') in term.lower(): category = 'Public Services'\n",
    "    elif('event planning') in term.lower(): category = 'Event Planning'\n",
    "    elif('religious') in term.lower(): category = 'Religious'\n",
    "    else: category = 'Unspecified'\n",
    "    \n",
    "    return category"
   ]
  },
  {
   "cell_type": "code",
   "execution_count": null,
   "metadata": {},
   "outputs": [],
   "source": [
    "def expand_checkins(dates):\n",
    "    \n",
    "    if(dates == 'nan'):\n",
    "        return 0, 0, 0, 0, 0\n",
    "    \n",
    "    hours = []\n",
    "\n",
    "    num_morn = 0\n",
    "    num_aft = 0\n",
    "    num_eve = 0\n",
    "    num_late = 0\n",
    "\n",
    "    for j in range(len(dates.split(','))):\n",
    "        hours.append(int(dates.split(',')[j].strip()[11:13]))\n",
    "\n",
    "    for k in range(len(hours)):\n",
    "        if((hours[k] >= 4) & (hours[k] < 12)):\n",
    "            num_morn += 1\n",
    "        elif((hours[k] >= 12) & (hours[k] < 18)):\n",
    "            num_aft += 1\n",
    "        elif((hours[k] >= 18) & (hours[k] < 23)):\n",
    "            num_eve += 1\n",
    "        else:\n",
    "            num_late += 1\n",
    "\n",
    "    num_tot = len(range(len(hours)))\n",
    "    \n",
    "    return num_morn, num_aft, num_eve, num_late, num_tot"
   ]
  },
  {
   "cell_type": "code",
   "execution_count": null,
   "metadata": {},
   "outputs": [],
   "source": [
    "def days_open(hours):\n",
    "\n",
    "    hours_trf = json.loads(hours.replace(\"'\", '\"'))\n",
    "\n",
    "    days_open = list(hours_trf.keys())\n",
    "    num_days_open = len(days_open)\n",
    "    \n",
    "    return days_open, num_days_open\n",
    "\n",
    "businesses['days_open'], businesses['num_days_open'] = businesses['business_hours'].map(lambda x: days_open(x))"
   ]
  },
  {
   "cell_type": "code",
   "execution_count": null,
   "metadata": {},
   "outputs": [],
   "source": [
    "businesses = businesses.rename(columns = {'business_categories': 'business_tags'})"
   ]
  },
  {
   "cell_type": "code",
   "execution_count": null,
   "metadata": {},
   "outputs": [],
   "source": [
    "businesses['business_category'] = businesses['business_tags'].astype(str).map(lambda x: categorize_tags(x))"
   ]
  },
  {
   "cell_type": "code",
   "execution_count": null,
   "metadata": {},
   "outputs": [],
   "source": [
    "checkins_by_TOD = businesses['checkin_date'].astype(str).map(lambda x: expand_checkins(x))\n",
    "checkins_by_TOD_df = pd.DataFrame(checkins_by_TOD.tolist(), index = checkins_by_TOD.index, columns = \n",
    "                                  ['checkins_morn', 'checkins_aft', 'checkins_eve', 'checkins_late', 'checkins_TOTAL'])\n",
    "\n",
    "businesses = pd.concat([businesses.reset_index(drop = True), checkins_by_TOD_df], axis = 1)"
   ]
  },
  {
   "cell_type": "code",
   "execution_count": null,
   "metadata": {},
   "outputs": [],
   "source": [
    "business_attributes = []\n",
    "\n",
    "for i in range(len(businesses['business_attributes'])):\n",
    "    if(str(businesses['business_attributes'][i]) == 'nan'):\n",
    "        break\n",
    "\n",
    "    business_attributes.append(str(businesses['business_attributes'][i]).split(':')[0])\n",
    "\n",
    "business_attributes = list(set(business_attributes))\n",
    "\n",
    "for i in range(len(business_attributes)):\n",
    "    business_attributes[i] = business_attributes[i].translate(str.maketrans('', '', string.punctuation))"
   ]
  },
  {
   "cell_type": "code",
   "execution_count": null,
   "metadata": {},
   "outputs": [],
   "source": [
    "business_attributes_df = np.zeros(shape = (len(businesses), len(business_attributes)))\n",
    "business_attributes_df = pd.DataFrame(business_attributes_df, columns = business_attributes)\n",
    "businesses = pd.concat([businesses.reset_index(drop = True), business_attributes_df], axis = 1)"
   ]
  },
  {
   "cell_type": "code",
   "execution_count": null,
   "metadata": {},
   "outputs": [],
   "source": [
    "import warnings\n",
    "warnings.filterwarnings(\"ignore\")\n",
    "\n",
    "for attr in business_attributes[30:]:\n",
    "    for bus in range(len(businesses)):\n",
    "        try:\n",
    "            businesses_detailed[attr][bus] = businesses_detailed['business_attributes'][bus].get(attr, 0)\n",
    "        except AttributeError:\n",
    "            businesses_detailed[attr][bus] = 0"
   ]
  },
  {
   "cell_type": "code",
   "execution_count": null,
   "metadata": {},
   "outputs": [],
   "source": [
    "for attr in businesses_detailed.columns[15:].values:\n",
    "    for i in range(len(businesses_detailed)):\n",
    "        if(businesses_detailed[attr][i] == 0):\n",
    "            businesses_detailed[attr][i] = 'Unspecified'"
   ]
  },
  {
   "cell_type": "code",
   "execution_count": null,
   "metadata": {},
   "outputs": [],
   "source": [
    "for bus in range(len(businesses)):\n",
    "    try:\n",
    "        businesses_detailed['BusinessParking'][bus] = businesses_detailed['business_attributes'][bus].get('BusinessParking', 'Unspecified')\n",
    "    except AttributeError:\n",
    "        businesses_detailed['BusinessParking'][bus] = 'Unspecified'\n",
    "\n",
    "def is_BP_true(term):\n",
    "    if('True' in term):\n",
    "        return 'True'\n",
    "    elif('Unspecified' in term):\n",
    "        return 'Unspecified'\n",
    "    else:\n",
    "        return 'False'\n",
    "    \n",
    "BusinessParking = [is_BP_true(term) for term in businesses_detailed['BusinessParking']]\n",
    "\n",
    "businesses_detailed['BusinessParking'] = BusinessParking"
   ]
  },
  {
   "cell_type": "code",
   "execution_count": null,
   "metadata": {},
   "outputs": [],
   "source": [
    "businesses_detailed['Alcohol'] = businesses_detailed['Alcohol'].replace(\"'none'\", 'False')\n",
    "businesses_detailed['Alcohol'] = businesses_detailed['Alcohol'].replace(\"none\", 'False')\n",
    "businesses_detailed['Alcohol'] = businesses_detailed['Alcohol'].replace(\"'beer_and_wine'\", 'Beer and Wine Only')\n",
    "businesses_detailed['Alcohol'] = businesses_detailed['Alcohol'].replace(\"beer_and_wine\", 'Beer and Wine Only')\n",
    "businesses_detailed['Alcohol'] = businesses_detailed['Alcohol'].replace(\"'full_bar'\", 'Full Bar')\n",
    "businesses_detailed['Alcohol'] = businesses_detailed['Alcohol'].replace(\"full_bar\", 'Full Bar')"
   ]
  },
  {
   "cell_type": "code",
   "execution_count": null,
   "metadata": {},
   "outputs": [],
   "source": [
    "businesses_detailed['WiFi'] = businesses_detailed['WiFi'].replace(\"'free'\", 'True')\n",
    "businesses_detailed['WiFi'] = businesses_detailed['WiFi'].replace(\"free\", 'True')\n",
    "businesses_detailed['WiFi'] = businesses_detailed['WiFi'].replace(\"'no'\", 'False')\n",
    "businesses_detailed['WiFi'] = businesses_detailed['WiFi'].replace(\"no\", 'False')\n",
    "businesses_detailed['WiFi'] = businesses_detailed['WiFi'].replace(\"'paid'\", 'Paid Only')\n",
    "businesses_detailed['WiFi'] = businesses_detailed['WiFi'].replace(\"paid\", 'Paid Only')"
   ]
  },
  {
   "cell_type": "code",
   "execution_count": null,
   "metadata": {},
   "outputs": [],
   "source": [
    "businesses_detailed['RestaurantsPriceRange2'] = businesses_detailed['RestaurantsPriceRange2'].replace(\"1\", '$')\n",
    "businesses_detailed['RestaurantsPriceRange2'] = businesses_detailed['RestaurantsPriceRange2'].replace(1.0, '$')\n",
    "businesses_detailed['RestaurantsPriceRange2'] = businesses_detailed['RestaurantsPriceRange2'].replace(\"2\", '$$')\n",
    "businesses_detailed['RestaurantsPriceRange2'] = businesses_detailed['RestaurantsPriceRange2'].replace(2.0, '$$')\n",
    "businesses_detailed['RestaurantsPriceRange2'] = businesses_detailed['RestaurantsPriceRange2'].replace(\"3\", '$$$')\n",
    "businesses_detailed['RestaurantsPriceRange2'] = businesses_detailed['RestaurantsPriceRange2'].replace(3.0, '$$$')\n",
    "businesses_detailed['RestaurantsPriceRange2'] = businesses_detailed['RestaurantsPriceRange2'].replace(\"4\", '$$$$')\n",
    "businesses_detailed['RestaurantsPriceRange2'] = businesses_detailed['RestaurantsPriceRange2'].replace(4.0, '$$$$')"
   ]
  },
  {
   "cell_type": "code",
   "execution_count": null,
   "metadata": {},
   "outputs": [],
   "source": [
    "businesses_detailed['Smoking'] = businesses_detailed['Smoking'].replace(\"'no'\", 'False')\n",
    "businesses_detailed['Smoking'] = businesses_detailed['Smoking'].replace(\"'yes'\", 'True')\n",
    "businesses_detailed['Smoking'] = businesses_detailed['Smoking'].replace(\"'outdoor'\", 'Outdoors Only')\n",
    "businesses_detailed['Smoking'] = businesses_detailed['Smoking'].replace(\"no\", 'False')\n",
    "businesses_detailed['Smoking'] = businesses_detailed['Smoking'].replace(\"yes\", 'True')\n",
    "businesses_detailed['Smoking'] = businesses_detailed['Smoking'].replace(\"outdoor\", 'Outdoors Only')"
   ]
  },
  {
   "cell_type": "code",
   "execution_count": null,
   "metadata": {},
   "outputs": [],
   "source": [
    "businesses_detailed['NoiseLevel'] = businesses_detailed['NoiseLevel'].replace(\"'average'\", 'Average')\n",
    "businesses_detailed['NoiseLevel'] = businesses_detailed['NoiseLevel'].replace(\"average\", 'Average')\n",
    "businesses_detailed['NoiseLevel'] = businesses_detailed['NoiseLevel'].replace(\"'quiet'\", 'Quiet')\n",
    "businesses_detailed['NoiseLevel'] = businesses_detailed['NoiseLevel'].replace(\"quiet\", 'Quiet')\n",
    "businesses_detailed['NoiseLevel'] = businesses_detailed['NoiseLevel'].replace(\"'loud'\", 'Loud')\n",
    "businesses_detailed['NoiseLevel'] = businesses_detailed['NoiseLevel'].replace(\"loud\", 'Loud')\n",
    "businesses_detailed['NoiseLevel'] = businesses_detailed['NoiseLevel'].replace(\"'very_loud'\", 'Very Loud')\n",
    "businesses_detailed['NoiseLevel'] = businesses_detailed['NoiseLevel'].replace(\"very_loud\", 'Very Loud')"
   ]
  },
  {
   "cell_type": "code",
   "execution_count": null,
   "metadata": {},
   "outputs": [],
   "source": [
    "businesses_detailed['RestaurantsAttire'] = businesses_detailed['RestaurantsAttire'].replace(\"'casual'\", 'Casual')\n",
    "businesses_detailed['RestaurantsAttire'] = businesses_detailed['RestaurantsAttire'].replace(\"casual\", 'Casual')\n",
    "businesses_detailed['RestaurantsAttire'] = businesses_detailed['RestaurantsAttire'].replace(\"'dressy'\", 'Formal')\n",
    "businesses_detailed['RestaurantsAttire'] = businesses_detailed['RestaurantsAttire'].replace(\"dressy\", 'Formal')\n",
    "businesses_detailed['RestaurantsAttire'] = businesses_detailed['RestaurantsAttire'].replace(\"formal\", 'Formal')\n",
    "businesses_detailed['RestaurantsAttire'] = businesses_detailed['RestaurantsAttire'].replace(\"'formal'\", 'Formal')"
   ]
  },
  {
   "cell_type": "code",
   "execution_count": null,
   "metadata": {},
   "outputs": [],
   "source": [
    "businesses_detailed = businesses_detailed.drop(['BestNights', 'Ambience'], axis = 1)"
   ]
  },
  {
   "cell_type": "code",
   "execution_count": null,
   "metadata": {},
   "outputs": [],
   "source": [
    "businesses_detailed['BusinessParking'][9]"
   ]
  },
  {
   "cell_type": "code",
   "execution_count": null,
   "metadata": {},
   "outputs": [],
   "source": [
    "businesses_detailed['business_attributes'][0]['BusinessParking']"
   ]
  },
  {
   "cell_type": "code",
   "execution_count": null,
   "metadata": {},
   "outputs": [],
   "source": [
    "def is_BP_true(term):\n",
    "    if('BusinessParking' in businesses_detailedterm):\n",
    "        if 'True' in businesses_detailed['business_attributes'][['BusinessParking']\n",
    "    else:\n",
    "        return term\n",
    "    \n",
    "businesses_detailed['BusinessParking'] = [is_true(term) for term in businesses_detailed['business_attributes']]"
   ]
  },
  {
   "cell_type": "code",
   "execution_count": null,
   "metadata": {},
   "outputs": [],
   "source": [
    "businesses_detailed = businesses_detailed.drop('business_attributes')"
   ]
  },
  {
   "cell_type": "code",
   "execution_count": null,
   "metadata": {},
   "outputs": [],
   "source": [
    "businesses_detailed.to_csv('businesses_transformed.csv', index = False)"
   ]
  }
 ],
 "metadata": {
  "kernelspec": {
   "display_name": "Python 3",
   "language": "python",
   "name": "python3"
  },
  "language_info": {
   "codemirror_mode": {
    "name": "ipython",
    "version": 3
   },
   "file_extension": ".py",
   "mimetype": "text/x-python",
   "name": "python",
   "nbconvert_exporter": "python",
   "pygments_lexer": "ipython3",
   "version": "3.7.4"
  }
 },
 "nbformat": 4,
 "nbformat_minor": 2
}
